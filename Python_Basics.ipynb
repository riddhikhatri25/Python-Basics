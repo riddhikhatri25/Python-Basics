{
  "cells": [
    {
      "cell_type": "markdown",
      "metadata": {
        "id": "tjrnKjDOKy_M"
      },
      "source": [
        "# **Python basics Assignment**\n",
        "\n",
        "\n"
      ]
    },
    {
      "cell_type": "markdown",
      "metadata": {
        "id": "UoqF5hWILLY6"
      },
      "source": [
        "1. What is Python, and why is it popular?\n",
        "   \n",
        "   - Python is a high-level, interpreted programming language known for its simplicity and readability. It is widely used for web development, data analysis, artificial intelligence, scientific computing, and more. Python is popular because:\n",
        "\n",
        "   - It has a simple and easy-to-learn syntax.\n",
        "\n",
        "   - It is versatile and supports multiple programming paradigms (procedural, object-oriented, and functional).\n",
        "\n",
        "   - It has a large standard library and a vibrant community.\n",
        "\n",
        "   - It is platform-independent and runs on various operating systems."
      ]
    },
    {
      "cell_type": "markdown",
      "metadata": {
        "id": "zFnbYiOSMfdi"
      },
      "source": [
        "2. What is an interpreter in Python?\n",
        "\n",
        "   - An interpreter is a program that executes Python code line by line. It reads the source code, translates it into machine-readable bytecode, and executes it immediately. Unlike compiled languages, Python does not need to compile the entire program before execution."
      ]
    },
    {
      "cell_type": "markdown",
      "metadata": {
        "id": "iNQ3c4-1MjnM"
      },
      "source": [
        "3. What are pre-defined keywords in Python?\n",
        "\n",
        "   - Pre-defined keywords are reserved words in Python that have special meanings and cannot be used as identifiers (e.g., variable names, function names). Examples include if, else, for, while, def, class, return, True, False, None, etc."
      ]
    },
    {
      "cell_type": "markdown",
      "metadata": {
        "id": "sOLjwOGSMjew"
      },
      "source": [
        "4. Can keywords be used as variable names?\n",
        "   \n",
        "   - No, keywords cannot be used as variable names because they are reserved for specific purposes in the Python language. Attempting to use a keyword as a variable name will result in a syntax error."
      ]
    },
    {
      "cell_type": "markdown",
      "metadata": {
        "id": "jmm9ULdPMjWb"
      },
      "source": [
        "5. What is mutability in Python?\n",
        "   \n",
        "  - Mutability refers to whether an object's value can be changed after it is created. In Python:\n",
        "\n",
        "   - **Mutable objects:** Can be modified after creation e.g., lists, dictionaries, sets.\n",
        "\n",
        "   - **Immutable objects:** Cannot be modified after creation e.g., integers, strings, tuples.\n",
        "\n"
      ]
    },
    {
      "cell_type": "markdown",
      "metadata": {
        "id": "LyKNQaM6MjMq"
      },
      "source": [
        "6. Why are lists mutable, but tuples are immutable?\n",
        "\n",
        "   - Lists are mutable because they are designed to be dynamic and allow modifications like adding, removing, or changing elements. Tuples are immutable because they are meant to store fixed collections of items that should not change, ensuring data integrity and safety.\n",
        "\n"
      ]
    },
    {
      "cell_type": "markdown",
      "metadata": {
        "id": "Psb7Rag3MjCi"
      },
      "source": [
        "7. What is the difference between “==” and “is” operators in Python?\n",
        "\n",
        "   - \"==\" checks for value equality, i.e., whether two objects have the same value.\n",
        "\n",
        "   - \"is\" checks for identity equality, i.e., whether two objects refer to the same memory location.\n",
        "\n",
        "   Example:"
      ]
    },
    {
      "cell_type": "code",
      "execution_count": null,
      "metadata": {
        "id": "bZJEurwGTPP4"
      },
      "outputs": [],
      "source": [
        "a = [1, 2, 3]\n",
        "b = [1, 2, 3]\n",
        "print(a == b)  # True (same value)\n",
        "print(a is b)  # False (different objects)"
      ]
    },
    {
      "cell_type": "markdown",
      "metadata": {
        "id": "DmlePs1vMi4S"
      },
      "source": [
        "8. What are logical operators in Python?\n",
        "   \n",
        "   - Logical operators are used to combine conditional statements:\n",
        "\n",
        "   - and: Returns True if both conditions are true.\n",
        "\n",
        "   - or: Returns True if at least one condition is true.\n",
        "\n",
        "   - not: Reverses the result of a condition.\n",
        "\n",
        "   Example:"
      ]
    },
    {
      "cell_type": "code",
      "execution_count": null,
      "metadata": {
        "id": "RErzRhMUThCI"
      },
      "outputs": [],
      "source": [
        "x = 5\n",
        "print(x > 3 and x < 10)  # True\n",
        "print(x > 10 or x < 3)    # False\n",
        "print(not x > 3)          # False"
      ]
    },
    {
      "cell_type": "markdown",
      "metadata": {
        "id": "yO9STlzRMivm"
      },
      "source": [
        "9. What is type casting in Python?\n",
        "\n",
        "  - Type casting is the process of converting one data type into another. Python provides built-in functions like int(), float(), str(), list(), etc., for type casting.\n",
        "\n",
        "  - Example:"
      ]
    },
    {
      "cell_type": "code",
      "execution_count": null,
      "metadata": {
        "id": "KScpdRoRTvW6"
      },
      "outputs": [],
      "source": [
        "x = 10\n",
        "y = float(x)  # Converts integer to float\n",
        "print(y)      # 10.0"
      ]
    },
    {
      "cell_type": "markdown",
      "metadata": {
        "id": "iyfDRKNLMikm"
      },
      "source": [
        "10. What is the difference between implicit and explicit type casting?\n",
        "\n",
        "  - Implicit type casting: Automatically performed by Python without user intervention (e.g., converting an integer to a float during arithmetic operations).\n",
        "\n",
        "  - Explicit type casting: Manually performed by the programmer using functions like int(), str(), etc.\n",
        "\n",
        "  Example:"
      ]
    },
    {
      "cell_type": "code",
      "execution_count": null,
      "metadata": {
        "id": "VbJB3S9OT9vb"
      },
      "outputs": [],
      "source": [
        "# Implicit\n",
        "a = 10 + 5.5  # Result is float (15.5)\n",
        "\n",
        "# Explicit\n",
        "b = int(5.5)  # Result is integer (5)"
      ]
    },
    {
      "cell_type": "markdown",
      "metadata": {
        "id": "l2cfnJahMiZf"
      },
      "source": [
        "11. What is the purpose of conditional statements in Python?\n",
        "    \n",
        "  Conditional statements (e.g., if, elif, else) are used to execute code blocks based on certain conditions. They allow programs to make decisions and perform different actions depending on the input or state of the program.\n",
        "\n"
      ]
    },
    {
      "cell_type": "markdown",
      "metadata": {
        "id": "p-erPbQCMgXC"
      },
      "source": [
        "12. How does the elif statement work?\n",
        "\n",
        "  - The elif (short for \"else if\") statement is used to check multiple conditions after an initial if statement. If the if condition is false, the elif condition is evaluated. If the elif condition is true, its block of code is executed.\n",
        "\n",
        "Example:"
      ]
    },
    {
      "cell_type": "code",
      "execution_count": null,
      "metadata": {
        "id": "1RZIYwOCUO7a"
      },
      "outputs": [],
      "source": [
        "x = 10\n",
        "if x > 20:\n",
        "    print(\"x is greater than 20\")\n",
        "elif x > 5:\n",
        "    print(\"x is greater than 5 but less than or equal to 20\")\n",
        "else:\n",
        "    print(\"x is 5 or less\")"
      ]
    },
    {
      "cell_type": "markdown",
      "metadata": {
        "id": "0YUqLP-TMgNi"
      },
      "source": [
        "13. What is the difference between for and while loops?\n",
        "\n",
        "   - for loop: Iterates over a sequence (e.g., list, tuple, string) or a range of numbers. The number of iterations is known in advance.\n",
        "\n",
        "   - while loop: Repeatedly executes a block of code as long as a condition is true. The number of iterations is not known in advance.\n",
        "\n",
        "Example:"
      ]
    },
    {
      "cell_type": "code",
      "execution_count": null,
      "metadata": {
        "id": "QIyknKZBUqFe"
      },
      "outputs": [],
      "source": [
        "# For loop\n",
        "for i in range(5):\n",
        "    print(i)  # Prints 0 to 4\n",
        "\n",
        "# While loop\n",
        "i = 0\n",
        "while i < 5:\n",
        "    print(i)  # Prints 0 to 4\n",
        "    i += 1"
      ]
    },
    {
      "cell_type": "markdown",
      "metadata": {
        "id": "6qHuavfmMf0y"
      },
      "source": [
        "14. Describe a scenario where a while loop is more suitable than a for loop.\n",
        "    \n",
        "    A while loop is more suitable when the number of iterations is not known in advance and depends on a condition. For example:\n",
        "\n",
        "    Reading user input until a valid response is given.\n",
        "\n",
        "    Processing data until a specific condition is met (e.g., reaching the end of a file).\n",
        "\n",
        "    Example:"
      ]
    },
    {
      "cell_type": "code",
      "execution_count": null,
      "metadata": {
        "id": "34u6x9s_VQ81"
      },
      "outputs": [],
      "source": [
        "user_input = \"\"\n",
        "while user_input != \"quit\":\n",
        "    user_input = input(\"Enter a command (type 'quit' to exit): \")\n",
        "    print(f\"You entered: {user_input}\")"
      ]
    },
    {
      "cell_type": "markdown",
      "metadata": {
        "id": "svh4D7BNVe5l"
      },
      "source": [
        "\n",
        "\n",
        "---\n",
        "\n"
      ]
    },
    {
      "cell_type": "markdown",
      "metadata": {
        "id": "XZqW4U6UVoPw"
      },
      "source": [
        "# **PRACTICAL QUESTIONS -**"
      ]
    },
    {
      "cell_type": "code",
      "execution_count": null,
      "metadata": {
        "colab": {
          "base_uri": "https://localhost:8080/"
        },
        "id": "sLBS9Co3Xoaw",
        "outputId": "daea59b1-33c5-4add-c6b9-75970e1002ca"
      },
      "outputs": [
        {
          "name": "stdout",
          "output_type": "stream",
          "text": [
            "Hello, World!\n"
          ]
        }
      ],
      "source": [
        "#QUESTION 1. Write a Python program to print \"Hello, World!\"\n",
        "\n",
        "print(\"Hello, World!\")"
      ]
    },
    {
      "cell_type": "code",
      "execution_count": null,
      "metadata": {
        "colab": {
          "base_uri": "https://localhost:8080/"
        },
        "id": "dzAY7G6QXoOM",
        "outputId": "d13b1aff-ffd0-4248-db20-eb90fbfc1581"
      },
      "outputs": [
        {
          "name": "stdout",
          "output_type": "stream",
          "text": [
            "My name is John Doe and I am 25 years old.\n"
          ]
        }
      ],
      "source": [
        "#QUESTION 2. Write a Python program that displays your name and age\n",
        "name = \"John Doe\"  # Replace with your name\n",
        "age = 25           # Replace with your age\n",
        "print(f\"My name is {name} and I am {age} years old.\")"
      ]
    },
    {
      "cell_type": "code",
      "execution_count": null,
      "metadata": {
        "colab": {
          "base_uri": "https://localhost:8080/"
        },
        "id": "Ef4f2kqzXoFk",
        "outputId": "c1af41fd-9bc9-4004-fa65-8239f3afa6a4"
      },
      "outputs": [
        {
          "name": "stdout",
          "output_type": "stream",
          "text": [
            "Python keywords:\n",
            "['False', 'None', 'True', 'and', 'as', 'assert', 'async', 'await', 'break', 'class', 'continue', 'def', 'del', 'elif', 'else', 'except', 'finally', 'for', 'from', 'global', 'if', 'import', 'in', 'is', 'lambda', 'nonlocal', 'not', 'or', 'pass', 'raise', 'return', 'try', 'while', 'with', 'yield']\n"
          ]
        }
      ],
      "source": [
        "# QUESTION 3. Write code to print all the pre-defined keywords in Python using the keyword library\n",
        "import keyword\n",
        "\n",
        "print(\"Python keywords:\")\n",
        "print(keyword.kwlist)"
      ]
    },
    {
      "cell_type": "code",
      "execution_count": null,
      "metadata": {
        "id": "2bPn6f2rXn8V"
      },
      "outputs": [],
      "source": [
        "# QUESTION 4. Write a program that checks if a given word is a Python keyword\n",
        "import keyword\n",
        "\n",
        "def is_python_keyword(word):\n",
        "    # Check if the word is a Python keyword\n",
        "    if keyword.iskeyword(word):\n",
        "        return True\n",
        "    else:\n",
        "        return False\n",
        "\n",
        "# Input from the user\n",
        "word = input(\"Enter a word to check if it's a Python keyword: \")\n",
        "\n",
        "# Check and print the result\n",
        "if is_python_keyword(word):\n",
        "    print(f\"'{word}' is a Python keyword.\")\n",
        "else:\n",
        "    print(f\"'{word}' is not a Python keyword.\")"
      ]
    },
    {
      "cell_type": "code",
      "execution_count": null,
      "metadata": {
        "colab": {
          "base_uri": "https://localhost:8080/"
        },
        "id": "vFYtdlubXnzx",
        "outputId": "a0cfbee4-96b4-45f6-d9fb-56d679f39497"
      },
      "outputs": [
        {
          "name": "stdout",
          "output_type": "stream",
          "text": [
            "Original list: [1, 2, 3]\n",
            "Modified list: [10, 2, 3]\n",
            "Original tuple: (1, 2, 3)\n"
          ]
        }
      ],
      "source": [
        "# QUESTION 5. Create a list and tuple in Python, and demonstrate how attempting to change an element works differently for each\n",
        "# List (mutable)\n",
        "my_list = [1, 2, 3]\n",
        "print(\"Original list:\", my_list)\n",
        "my_list[0] = 10  # Change the first element\n",
        "print(\"Modified list:\", my_list)\n",
        "\n",
        "# Tuple (immutable)\n",
        "my_tuple = (1, 2, 3)\n",
        "print(\"Original tuple:\", my_tuple)\n",
        "# Attempting to change the first element will raise an error\n",
        "# my_tuple[0] = 10  # Uncommenting this line will cause a TypeError"
      ]
    },
    {
      "cell_type": "code",
      "execution_count": null,
      "metadata": {
        "colab": {
          "base_uri": "https://localhost:8080/"
        },
        "id": "2Dzqj6GmXntc",
        "outputId": "e7484323-b9ed-4c6e-eaef-9b7c19a8834f"
      },
      "outputs": [
        {
          "name": "stdout",
          "output_type": "stream",
          "text": [
            "Inside function (before modification):\n",
            "Mutable arg: [1, 2, 3]\n",
            "Immutable arg: 5\n",
            "Inside function (after modification):\n",
            "Mutable arg: [1, 2, 3, 4]\n",
            "Immutable arg: 15\n",
            "Outside function:\n",
            "Mutable arg: [1, 2, 3, 4]\n",
            "Immutable arg: 5\n"
          ]
        }
      ],
      "source": [
        "# QUESTION 6. Write a function to demonstrate the behavior of mutable and immutable arguments\n",
        "\n",
        "def modify_args(mutable_arg, immutable_arg):\n",
        "    print(\"Inside function (before modification):\")\n",
        "    print(\"Mutable arg:\", mutable_arg)\n",
        "    print(\"Immutable arg:\", immutable_arg)\n",
        "\n",
        "    mutable_arg.append(4)  # Modify the mutable argument\n",
        "    immutable_arg += 10    # Modify the immutable argument (creates a new object)\n",
        "\n",
        "    print(\"Inside function (after modification):\")\n",
        "    print(\"Mutable arg:\", mutable_arg)\n",
        "    print(\"Immutable arg:\", immutable_arg)\n",
        "\n",
        "# Test the function\n",
        "my_list = [1, 2, 3]\n",
        "my_num = 5\n",
        "modify_args(my_list, my_num)\n",
        "\n",
        "print(\"Outside function:\")\n",
        "print(\"Mutable arg:\", my_list)  # List is modified\n",
        "print(\"Immutable arg:\", my_num)  # Number remains unchanged"
      ]
    },
    {
      "cell_type": "code",
      "execution_count": null,
      "metadata": {
        "id": "frOLhI1ZXnmM"
      },
      "outputs": [],
      "source": [
        "# QUESTION 7. Write a program to demonstrate the use of logical operators\n",
        "\n",
        "def logical_operations(a, b):\n",
        "    print(f\"Values: a = {a}, b = {b}\")\n",
        "\n",
        "    # Logical AND\n",
        "    print(f\"a > 5 and b > 5: {a > 5 and b > 5}\")\n",
        "\n",
        "    # Logical OR\n",
        "    print(f\"a > 5 or b > 5: {a > 5 or b > 5}\")\n",
        "\n",
        "    # Logical NOT\n",
        "    print(f\"not (a > 5): {not (a > 5)}\")\n",
        "    print(f\"not (b > 5): {not (b > 5)}\")\n",
        "\n",
        "# Test the function with sample values\n",
        "a = 10\n",
        "b = 3\n",
        "logical_operations(a, b)\n"
      ]
    },
    {
      "cell_type": "code",
      "execution_count": null,
      "metadata": {
        "id": "9Va1DljzXnfc"
      },
      "outputs": [],
      "source": [
        "# QUESTION 8. Write a Python program to convert user input from string to integer, float, and boolean types\n",
        "\n",
        "user_input = input(\"Enter a value: \")\n",
        "\n",
        "# Convert to integer\n",
        "try:\n",
        "    int_value = int(user_input)\n",
        "    print(f\"Integer: {int_value}\")\n",
        "except ValueError:\n",
        "    print(\"Cannot convert to integer.\")\n",
        "\n",
        "# Convert to float\n",
        "try:\n",
        "    float_value = float(user_input)\n",
        "    print(f\"Float: {float_value}\")\n",
        "except ValueError:\n",
        "    print(\"Cannot convert to float.\")\n",
        "\n",
        "# Convert to boolean\n",
        "bool_value = bool(user_input)\n",
        "print(f\"Boolean: {bool_value}\")"
      ]
    },
    {
      "cell_type": "code",
      "execution_count": null,
      "metadata": {
        "id": "zDsCwvqHXnX8"
      },
      "outputs": [],
      "source": [
        "# QUESTION 9. Write code to demonstrate type casting with list elements\n",
        "\n",
        "my_list = [\"10\", \"20.5\", \"True\"]\n",
        "\n",
        "# Convert list elements to integer, float, and boolean\n",
        "int_list = [int(x) for x in my_list[:1]]  # Only first element can be converted to int\n",
        "float_list = [float(x) for x in my_list[:2]]  # First two elements can be converted to float\n",
        "bool_list = [bool(x) for x in my_list]  # All elements can be converted to boolean\n",
        "\n",
        "print(\"Integer list:\", int_list)\n",
        "print(\"Float list:\", float_list)\n",
        "print(\"Boolean list:\", bool_list)"
      ]
    },
    {
      "cell_type": "code",
      "execution_count": null,
      "metadata": {
        "id": "jxh4gbBSXnQb"
      },
      "outputs": [],
      "source": [
        "# QUESTION 10. Write a program that checks if a number is positive, negative, or zero\n",
        "\n",
        "num = float(input(\"Enter a number: \"))\n",
        "\n",
        "if num > 0:\n",
        "    print(\"Positive\")\n",
        "elif num < 0:\n",
        "    print(\"Negative\")\n",
        "else:\n",
        "    print(\"Zero\")"
      ]
    },
    {
      "cell_type": "code",
      "execution_count": null,
      "metadata": {
        "id": "fE1Qct-hXnH7"
      },
      "outputs": [],
      "source": [
        "# QUESTION 11. Write a for loop to print numbers from 1 to 100\n",
        "\n",
        "for i in range(1, 101):\n",
        "    print(i, end=\" \")"
      ]
    },
    {
      "cell_type": "code",
      "execution_count": null,
      "metadata": {
        "id": "9EWZvtk-Xmv7"
      },
      "outputs": [],
      "source": [
        "# QUESTION 12. Write a Python program to find the sum of all even numbers between 1 and 500\n",
        "\n",
        "total = 0\n",
        "for i in range(2, 501, 2):  # Start at 2, step by 2\n",
        "    total += i\n",
        "print(\"Sum of even numbers between 1 and 500:\", total)"
      ]
    },
    {
      "cell_type": "code",
      "execution_count": null,
      "metadata": {
        "id": "1avB312DXmpE"
      },
      "outputs": [],
      "source": [
        "# QUESTION 13. Write a program to reverse a string using a while loop\n",
        "\n",
        "string = input(\"Enter a string: \")\n",
        "reversed_string = \"\"\n",
        "index = len(string) - 1\n",
        "\n",
        "while index >= 0:\n",
        "    reversed_string += string[index]\n",
        "    index -= 1\n",
        "\n",
        "print(\"Reversed string:\", reversed_string)"
      ]
    },
    {
      "cell_type": "code",
      "execution_count": null,
      "metadata": {
        "id": "tMekgfB1Xmg8"
      },
      "outputs": [],
      "source": [
        "# QUESTION 14. Write a Python program to calculate the factorial of a number provided by the user using a while loop\n",
        "\n",
        "num = int(input(\"Enter a number: \"))\n",
        "factorial = 1\n",
        "i = 1\n",
        "\n",
        "while i <= num:\n",
        "    factorial *= i\n",
        "    i += 1\n",
        "\n",
        "print(f\"Factorial of {num} is {factorial}\")"
      ]
    },
    {
      "cell_type": "markdown",
      "metadata": {
        "id": "vmGb_w_YbP2v"
      },
      "source": [
        "\n",
        "\n",
        "---\n",
        "\n"
      ]
    }
  ],
  "metadata": {
    "colab": {
      "provenance": []
    },
    "kernelspec": {
      "display_name": "Python 3",
      "name": "python3"
    },
    "language_info": {
      "name": "python"
    }
  },
  "nbformat": 4,
  "nbformat_minor": 0
}